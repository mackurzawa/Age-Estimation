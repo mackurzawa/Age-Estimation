{
 "cells": [
  {
   "cell_type": "code",
   "execution_count": 26,
   "id": "52281621-d11b-4d26-a21c-3d9dee5e539e",
   "metadata": {},
   "outputs": [],
   "source": [
    "import os\n",
    "import shutil"
   ]
  },
  {
   "cell_type": "code",
   "execution_count": 28,
   "id": "b8c8ed55-5b2e-4c62-b779-1a18c84df1cd",
   "metadata": {},
   "outputs": [],
   "source": [
    "ALL_FILES_DIR = os.path.join('Data', 'UTKFace')\n",
    "TRAIN_DIR = os.path.join('Data', 'Train')\n",
    "TEST_DIR = os.path.join('Data', 'Test')\n",
    "\n",
    "TRAIN_RATIO = .8"
   ]
  },
  {
   "cell_type": "code",
   "execution_count": 29,
   "id": "774613c2-874a-49b1-a92c-b8dbf1b1d438",
   "metadata": {},
   "outputs": [
    {
     "data": {
      "text/plain": [
       "23708"
      ]
     },
     "execution_count": 29,
     "metadata": {},
     "output_type": "execute_result"
    }
   ],
   "source": [
    "filenames = os.listdir(ALL_FILES_DIR)\n",
    "len(filenames)"
   ]
  },
  {
   "cell_type": "code",
   "execution_count": 31,
   "id": "b21feaf2-4973-4523-8b65-a7047e07820b",
   "metadata": {},
   "outputs": [
    {
     "data": {
      "text/plain": [
       "(18965, 4743, 0.7999409482031382)"
      ]
     },
     "execution_count": 31,
     "metadata": {},
     "output_type": "execute_result"
    }
   ],
   "source": [
    "counter = 0\n",
    "train_count = 0\n",
    "test_count = 0\n",
    "for filename in filenames:\n",
    "    if counter > 1:\n",
    "        counter -= 1\n",
    "        train_count += 1\n",
    "        shutil.copyfile(os.path.join(ALL_FILES_DIR, filename), os.path.join(TRAIN_DIR, filename))\n",
    "    else:\n",
    "        test_count += 1\n",
    "        shutil.copyfile(os.path.join(ALL_FILES_DIR, filename), os.path.join(TEST_DIR, filename))\n",
    "    \n",
    "    counter += TRAIN_RATIO\n",
    "\n",
    "train_count, test_count, train_count/(test_count + train_count)"
   ]
  },
  {
   "cell_type": "code",
   "execution_count": null,
   "id": "e2d7d79f-db4f-48d2-bc9a-0c5803419bf8",
   "metadata": {},
   "outputs": [],
   "source": []
  }
 ],
 "metadata": {
  "kernelspec": {
   "display_name": "Python 3 (ipykernel)",
   "language": "python",
   "name": "python3"
  },
  "language_info": {
   "codemirror_mode": {
    "name": "ipython",
    "version": 3
   },
   "file_extension": ".py",
   "mimetype": "text/x-python",
   "name": "python",
   "nbconvert_exporter": "python",
   "pygments_lexer": "ipython3",
   "version": "3.11.4"
  }
 },
 "nbformat": 4,
 "nbformat_minor": 5
}
